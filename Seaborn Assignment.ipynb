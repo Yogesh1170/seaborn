{
 "cells": [
  {
   "cell_type": "code",
   "execution_count": null,
   "id": "005f8c56",
   "metadata": {},
   "outputs": [],
   "source": [
    "Que 1: Name any five plots that we can plot using the Seaborn library. Also, state the uses of each plot."
   ]
  },
  {
   "cell_type": "code",
   "execution_count": null,
   "id": "1c2f45d6",
   "metadata": {},
   "outputs": [],
   "source": [
    "Seaborn is a powerful Python data visualization library based on Matplotlib that provides a high-level interface for \n",
    "drawing attractive statistical graphics. Here are five plots that can be created using Seaborn, along with their uses:\n",
    "\n",
    "1. Scatter Plot (`sns.scatterplot`):\n",
    "   - Use: To visualize the relationship between two continuous variables. Each point represents an observation in the \n",
    "dataset, allowing you to see trends, correlations, or patterns.\n",
    "   - Example: Analyzing the relationship between height and weight.\n",
    "\n",
    "2. Line Plot (`sns.lineplot`):\n",
    "   - Use: To visualize data points in a time series or to show trends over a continuous variable. It connects data \n",
    "points with lines, making it easier to observe changes over time.\n",
    "   - Example: Tracking monthly sales figures over the year.\n",
    "\n",
    "3. Bar Plot (`sns.barplot`):\n",
    "   - Use: To compare the average values of different categories. It shows the relationship between a categorical \n",
    "variable and a continuous variable, displaying the mean with bars.\n",
    "   - Example: Comparing average test scores of different student groups.\n",
    "\n",
    "4. Box Plot (`sns.boxplot`):\n",
    "   - Use: To display the distribution of a continuous variable and identify outliers across different categories. \n",
    "It shows the median, quartiles, and potential outliers.\n",
    "   - Example: Comparing the distribution of salaries across different job titles.\n",
    "\n",
    "5. Heatmap (`sns.heatmap`):\n",
    "   - Use: To visualize the correlation between variables in a matrix format, where values are represented by colors. \n",
    "It's particularly useful for displaying the strength of relationships between many variables.\n",
    "   - Example: Analyzing the correlation matrix of a dataset to identify potential predictors."
   ]
  },
  {
   "cell_type": "code",
   "execution_count": null,
   "id": "25a63fb7",
   "metadata": {},
   "outputs": [],
   "source": [
    "Que 2: Load the \"fmri\" dataset using the load_dataset function of seaborn. Plot a line plot using x = \"timepoint\" \n",
    "and y = \"signal\" for different events and regions.\n",
    "Note: timepoint, signal, event, and region are columns in the fmri dataset."
   ]
  },
  {
   "cell_type": "code",
   "execution_count": null,
   "id": "2f3f8fc9",
   "metadata": {},
   "outputs": [],
   "source": [
    "import seaborn as sns\n",
    "import matplotlib.pyplot as plt\n",
    "\n",
    "# Load the 'fmri' dataset\n",
    "fmri = sns.load_dataset(\"fmri\")\n",
    "\n",
    "# Create a line plot\n",
    "plt.figure(figsize=(12, 6))\n",
    "sns.lineplot(data=fmri, x=\"timepoint\", y=\"signal\", hue=\"event\", style=\"region\", markers=True)\n",
    "\n",
    "# Add title and labels\n",
    "plt.title(\"FMRI Signal Over Timepoints by Event and Region\")\n",
    "plt.xlabel(\"Timepoint\")\n",
    "plt.ylabel(\"Signal\")\n",
    "plt.legend(title='Event and Region')\n",
    "\n",
    "# Show the plot\n",
    "plt.show()"
   ]
  },
  {
   "cell_type": "code",
   "execution_count": null,
   "id": "da81baab",
   "metadata": {},
   "outputs": [],
   "source": [
    "Que 3: Load the \"titanic\" dataset using the load_dataset function of seaborn. Plot two box plots using x = 'pclass',\n",
    "y = 'age' and y = 'fare'.\n",
    "Note: pclass, age, and fare are columns in the titanic dataset."
   ]
  },
  {
   "cell_type": "code",
   "execution_count": null,
   "id": "7285a718",
   "metadata": {},
   "outputs": [],
   "source": [
    "import seaborn as sns\n",
    "import matplotlib.pyplot as plt\n",
    "\n",
    "# Load the 'titanic' dataset\n",
    "titanic = sns.load_dataset(\"titanic\")\n",
    "\n",
    "# Set up the figure with two subplots\n",
    "plt.figure(figsize=(12, 6))\n",
    "\n",
    "# Box plot for 'age' by 'pclass'\n",
    "plt.subplot(1, 2, 1)  # 1 row, 2 columns, 1st subplot\n",
    "sns.boxplot(data=titanic, x='pclass', y='age')\n",
    "plt.title('Box Plot of Age by Passenger Class')\n",
    "plt.xlabel('Passenger Class (Pclass)')\n",
    "plt.ylabel('Age')\n",
    "\n",
    "# Box plot for 'fare' by 'pclass'\n",
    "plt.subplot(1, 2, 2)  # 1 row, 2 columns, 2nd subplot\n",
    "sns.boxplot(data=titanic, x='pclass', y='fare')\n",
    "plt.title('Box Plot of Fare by Passenger Class')\n",
    "plt.xlabel('Passenger Class (Pclass)')\n",
    "plt.ylabel('Fare')\n",
    "\n",
    "# Adjust layout and show the plots\n",
    "plt.tight_layout()\n",
    "plt.show()"
   ]
  },
  {
   "cell_type": "code",
   "execution_count": null,
   "id": "bfc667b4",
   "metadata": {},
   "outputs": [],
   "source": [
    "Que 4: Use the \"diamonds\" dataset from seaborn to plot a histogram for the 'price' column. Use the hue\n",
    "parameter for the 'cut' column of the diamonds dataset."
   ]
  },
  {
   "cell_type": "code",
   "execution_count": null,
   "id": "b2669033",
   "metadata": {},
   "outputs": [],
   "source": [
    "import seaborn as sns\n",
    "import matplotlib.pyplot as plt\n",
    "\n",
    "# Load the 'diamonds' dataset\n",
    "diamonds = sns.load_dataset(\"diamonds\")\n",
    "\n",
    "# Create a histogram for 'price' with 'cut' as hue\n",
    "plt.figure(figsize=(12, 6))\n",
    "sns.histplot(data=diamonds, x='price', hue='cut', multiple='stack', bins=30, kde=True)\n",
    "\n",
    "# Add title and labels\n",
    "plt.title('Histogram of Diamond Prices by Cut')\n",
    "plt.xlabel('Price')\n",
    "plt.ylabel('Count')\n",
    "\n",
    "# Show the plot\n",
    "plt.show()"
   ]
  },
  {
   "cell_type": "code",
   "execution_count": null,
   "id": "73d25a18",
   "metadata": {},
   "outputs": [],
   "source": [
    "Que 5: Use the \"iris\" dataset from seaborn to plot a pair plot. Use the hue parameter for the \"species\" column\n",
    "of the iris dataset."
   ]
  },
  {
   "cell_type": "code",
   "execution_count": null,
   "id": "42ec2a51",
   "metadata": {},
   "outputs": [],
   "source": [
    "import seaborn as sns\n",
    "import matplotlib.pyplot as plt\n",
    "\n",
    "# Load the 'iris' dataset\n",
    "iris = sns.load_dataset(\"iris\")\n",
    "\n",
    "# Create a pair plot with hue based on species\n",
    "sns.pairplot(iris, hue='species')\n",
    "\n",
    "# Show the plot\n",
    "plt.show()"
   ]
  },
  {
   "cell_type": "code",
   "execution_count": null,
   "id": "18895933",
   "metadata": {},
   "outputs": [],
   "source": [
    "Que 6: Use the \"flights\" dataset from seaborn to plot a heatmap."
   ]
  },
  {
   "cell_type": "code",
   "execution_count": null,
   "id": "9beda597",
   "metadata": {},
   "outputs": [],
   "source": [
    "import seaborn as sns\n",
    "import matplotlib.pyplot as plt\n",
    "\n",
    "# Load the 'flights' dataset\n",
    "flights = sns.load_dataset(\"flights\")\n",
    "\n",
    "# Pivot the dataset to create a matrix format\n",
    "flights_pivot = flights.pivot(\"month\", \"year\", \"passengers\")\n",
    "\n",
    "# Create a heatmap\n",
    "plt.figure(figsize=(12, 8))\n",
    "sns.heatmap(flights_pivot, cmap=\"YlGnBu\", annot=True, fmt=\"d\", linewidths=.5)\n",
    "\n",
    "# Add title and labels\n",
    "plt.title('Number of Passengers by Month and Year')\n",
    "plt.xlabel('Year')\n",
    "plt.ylabel('Month')\n",
    "\n",
    "# Show the plot\n",
    "plt.show()"
   ]
  }
 ],
 "metadata": {
  "kernelspec": {
   "display_name": "Python 3 (ipykernel)",
   "language": "python",
   "name": "python3"
  },
  "language_info": {
   "codemirror_mode": {
    "name": "ipython",
    "version": 3
   },
   "file_extension": ".py",
   "mimetype": "text/x-python",
   "name": "python",
   "nbconvert_exporter": "python",
   "pygments_lexer": "ipython3",
   "version": "3.11.5"
  }
 },
 "nbformat": 4,
 "nbformat_minor": 5
}
